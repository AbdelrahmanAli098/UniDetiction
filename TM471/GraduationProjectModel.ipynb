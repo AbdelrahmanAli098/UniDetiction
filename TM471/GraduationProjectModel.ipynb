{
 "cells": [
  {
   "cell_type": "code",
   "execution_count": 2,
   "id": "f2385bd9",
   "metadata": {},
   "outputs": [],
   "source": [
    "import pandas as pd\n",
    "import matplotlib.pyplot as plt\n",
    "import seaborn as sns\n",
    "\n",
    "from sklearn.model_selection import train_test_split , cross_val_score\n",
    "from sklearn.metrics import classification_report, confusion_matrix ,accuracy_score\n",
    "from sklearn.ensemble import GradientBoostingClassifier\n",
    "import joblib\n"
   ]
  },
  {
   "cell_type": "code",
   "execution_count": 3,
   "id": "b6adf360",
   "metadata": {},
   "outputs": [
    {
     "data": {
      "text/html": [
       "<div>\n",
       "<style scoped>\n",
       "    .dataframe tbody tr th:only-of-type {\n",
       "        vertical-align: middle;\n",
       "    }\n",
       "\n",
       "    .dataframe tbody tr th {\n",
       "        vertical-align: top;\n",
       "    }\n",
       "\n",
       "    .dataframe thead th {\n",
       "        text-align: right;\n",
       "    }\n",
       "</style>\n",
       "<table border=\"1\" class=\"dataframe\">\n",
       "  <thead>\n",
       "    <tr style=\"text-align: right;\">\n",
       "      <th></th>\n",
       "      <th>Student_ID</th>\n",
       "      <th>Track</th>\n",
       "      <th>Preferred_Location</th>\n",
       "      <th>Preferred_Type</th>\n",
       "      <th>Major_Name</th>\n",
       "      <th>Tuition_Budget</th>\n",
       "      <th>Student_Grade</th>\n",
       "      <th>University_Name</th>\n",
       "      <th>University_Location</th>\n",
       "      <th>Tuition_Fees</th>\n",
       "      <th>Acceptance_Grade</th>\n",
       "      <th>Grade_Gap</th>\n",
       "      <th>Is_Budget_Sufficient</th>\n",
       "      <th>Is_Location_Match</th>\n",
       "      <th>Match</th>\n",
       "    </tr>\n",
       "  </thead>\n",
       "  <tbody>\n",
       "    <tr>\n",
       "      <th>0</th>\n",
       "      <td>5821</td>\n",
       "      <td>Science</td>\n",
       "      <td>6th of October City</td>\n",
       "      <td>Private</td>\n",
       "      <td>Faculty of Nursing</td>\n",
       "      <td>83712</td>\n",
       "      <td>354.58</td>\n",
       "      <td>Misr University for Science and Technology</td>\n",
       "      <td>6th of October City</td>\n",
       "      <td>36000.0</td>\n",
       "      <td>371.31</td>\n",
       "      <td>-16.73</td>\n",
       "      <td>1</td>\n",
       "      <td>1</td>\n",
       "      <td>0</td>\n",
       "    </tr>\n",
       "    <tr>\n",
       "      <th>1</th>\n",
       "      <td>7165</td>\n",
       "      <td>Science</td>\n",
       "      <td>New Cairo</td>\n",
       "      <td>Private</td>\n",
       "      <td>Faculty of Nursing</td>\n",
       "      <td>270013</td>\n",
       "      <td>371.13</td>\n",
       "      <td>The American University in Cairo</td>\n",
       "      <td>New Cairo</td>\n",
       "      <td>700000.0</td>\n",
       "      <td>324.73</td>\n",
       "      <td>46.40</td>\n",
       "      <td>0</td>\n",
       "      <td>1</td>\n",
       "      <td>0</td>\n",
       "    </tr>\n",
       "    <tr>\n",
       "      <th>2</th>\n",
       "      <td>784</td>\n",
       "      <td>Math</td>\n",
       "      <td>Banha</td>\n",
       "      <td>Public</td>\n",
       "      <td>Faculty of Computer Sciences</td>\n",
       "      <td>35472</td>\n",
       "      <td>384.59</td>\n",
       "      <td>Banha University</td>\n",
       "      <td>Banha</td>\n",
       "      <td>1450.0</td>\n",
       "      <td>316.36</td>\n",
       "      <td>68.23</td>\n",
       "      <td>1</td>\n",
       "      <td>1</td>\n",
       "      <td>1</td>\n",
       "    </tr>\n",
       "    <tr>\n",
       "      <th>3</th>\n",
       "      <td>4092</td>\n",
       "      <td>Math</td>\n",
       "      <td>Giza</td>\n",
       "      <td>National</td>\n",
       "      <td>Faculty of Computer Sciences</td>\n",
       "      <td>108487</td>\n",
       "      <td>368.53</td>\n",
       "      <td>Zewail City of Science, Technology and Innovation</td>\n",
       "      <td>Giza</td>\n",
       "      <td>89000.0</td>\n",
       "      <td>288.55</td>\n",
       "      <td>79.98</td>\n",
       "      <td>1</td>\n",
       "      <td>1</td>\n",
       "      <td>1</td>\n",
       "    </tr>\n",
       "    <tr>\n",
       "      <th>4</th>\n",
       "      <td>1848</td>\n",
       "      <td>Math</td>\n",
       "      <td>Helwan</td>\n",
       "      <td>Public</td>\n",
       "      <td>Faculty of Engineering</td>\n",
       "      <td>38001</td>\n",
       "      <td>394.10</td>\n",
       "      <td>Helwan University</td>\n",
       "      <td>Helwan</td>\n",
       "      <td>1350.0</td>\n",
       "      <td>303.98</td>\n",
       "      <td>90.12</td>\n",
       "      <td>1</td>\n",
       "      <td>1</td>\n",
       "      <td>1</td>\n",
       "    </tr>\n",
       "  </tbody>\n",
       "</table>\n",
       "</div>"
      ],
      "text/plain": [
       "   Student_ID    Track   Preferred_Location Preferred_Type  \\\n",
       "0        5821  Science  6th of October City        Private   \n",
       "1        7165  Science            New Cairo        Private   \n",
       "2         784     Math                Banha         Public   \n",
       "3        4092     Math                 Giza       National   \n",
       "4        1848     Math               Helwan         Public   \n",
       "\n",
       "                     Major_Name  Tuition_Budget  Student_Grade  \\\n",
       "0            Faculty of Nursing           83712         354.58   \n",
       "1            Faculty of Nursing          270013         371.13   \n",
       "2  Faculty of Computer Sciences           35472         384.59   \n",
       "3  Faculty of Computer Sciences          108487         368.53   \n",
       "4        Faculty of Engineering           38001         394.10   \n",
       "\n",
       "                                     University_Name  University_Location  \\\n",
       "0         Misr University for Science and Technology  6th of October City   \n",
       "1                   The American University in Cairo            New Cairo   \n",
       "2                                   Banha University                Banha   \n",
       "3  Zewail City of Science, Technology and Innovation                 Giza   \n",
       "4                                  Helwan University               Helwan   \n",
       "\n",
       "   Tuition_Fees  Acceptance_Grade  Grade_Gap  Is_Budget_Sufficient  \\\n",
       "0       36000.0            371.31     -16.73                     1   \n",
       "1      700000.0            324.73      46.40                     0   \n",
       "2        1450.0            316.36      68.23                     1   \n",
       "3       89000.0            288.55      79.98                     1   \n",
       "4        1350.0            303.98      90.12                     1   \n",
       "\n",
       "   Is_Location_Match  Match  \n",
       "0                  1      0  \n",
       "1                  1      0  \n",
       "2                  1      1  \n",
       "3                  1      1  \n",
       "4                  1      1  "
      ]
     },
     "execution_count": 3,
     "metadata": {},
     "output_type": "execute_result"
    }
   ],
   "source": [
    "# Loading the dataset from a CSV file and displaying the first few rows\n",
    "df = pd.read_csv('Test1.csv')\n",
    "df.head()"
   ]
  },
  {
   "cell_type": "code",
   "execution_count": 4,
   "id": "9a592bfd",
   "metadata": {},
   "outputs": [
    {
     "data": {
      "text/plain": [
       "Student_ID              0\n",
       "Track                   0\n",
       "Preferred_Location      0\n",
       "Preferred_Type          0\n",
       "Major_Name              0\n",
       "Tuition_Budget          0\n",
       "Student_Grade           0\n",
       "University_Name         0\n",
       "University_Location     0\n",
       "Tuition_Fees            0\n",
       "Acceptance_Grade        0\n",
       "Grade_Gap               0\n",
       "Is_Budget_Sufficient    0\n",
       "Is_Location_Match       0\n",
       "Match                   0\n",
       "dtype: int64"
      ]
     },
     "execution_count": 4,
     "metadata": {},
     "output_type": "execute_result"
    }
   ],
   "source": [
    "df.isna().sum()# Checking for missing values in the dataset"
   ]
  },
  {
   "cell_type": "code",
   "execution_count": 5,
   "id": "8e1378e7",
   "metadata": {},
   "outputs": [
    {
     "name": "stdout",
     "output_type": "stream",
     "text": [
      "<class 'pandas.core.frame.DataFrame'>\n",
      "RangeIndex: 11334 entries, 0 to 11333\n",
      "Data columns (total 15 columns):\n",
      " #   Column                Non-Null Count  Dtype  \n",
      "---  ------                --------------  -----  \n",
      " 0   Student_ID            11334 non-null  int64  \n",
      " 1   Track                 11334 non-null  object \n",
      " 2   Preferred_Location    11334 non-null  object \n",
      " 3   Preferred_Type        11334 non-null  object \n",
      " 4   Major_Name            11334 non-null  object \n",
      " 5   Tuition_Budget        11334 non-null  int64  \n",
      " 6   Student_Grade         11334 non-null  float64\n",
      " 7   University_Name       11334 non-null  object \n",
      " 8   University_Location   11334 non-null  object \n",
      " 9   Tuition_Fees          11334 non-null  float64\n",
      " 10  Acceptance_Grade      11334 non-null  float64\n",
      " 11  Grade_Gap             11334 non-null  float64\n",
      " 12  Is_Budget_Sufficient  11334 non-null  int64  \n",
      " 13  Is_Location_Match     11334 non-null  int64  \n",
      " 14  Match                 11334 non-null  int64  \n",
      "dtypes: float64(4), int64(5), object(6)\n",
      "memory usage: 1.3+ MB\n"
     ]
    }
   ],
   "source": [
    "# Displaying information about the dataset, including column data types and non-null counts\n",
    "df.info()"
   ]
  },
  {
   "cell_type": "code",
   "execution_count": 6,
   "id": "5002149c",
   "metadata": {},
   "outputs": [
    {
     "data": {
      "image/png": "[encoded data removed]",
      "text/plain": [
       "<Figure size 1000x600 with 1 Axes>"
      ]
     },
     "metadata": {},
     "output_type": "display_data"
    }
   ],
   "source": [
    "# Visualizing the distribution of the 'Preferred_Type' column using a histogram\n",
    "plt.figure(figsize=(10, 6))\n",
    "sns.histplot(df['Preferred_Type'], bins=3, kde=True, color='blue')\n",
    "plt.title('Distribution of Preferred Type')\n",
    "plt.xlabel('Preferred Type')\n",
    "plt.ylabel('Frequency')\n",
    "plt.show()"
   ]
  },
  {
   "cell_type": "code",
   "execution_count": 7,
   "id": "843d5929",
   "metadata": {},
   "outputs": [
    {
     "data": {
      "image/png": "[encoded data removed]",
      "text/plain": [
       "<Figure size 800x500 with 1 Axes>"
      ]
     },
     "metadata": {},
     "output_type": "display_data"
    }
   ],
   "source": [
    "# Visualizing the distribution of the 'Match' column using a count plot\n",
    "plt.figure(figsize=(8, 5))\n",
    "ax = sns.countplot(x=\"Match\", data=df, palette=\"Set2\", hue=\"Match\")\n",
    "# Adding labels to the bars in the count plot\n",
    "for container in ax.containers:\n",
    "    ax.bar_label(container, fmt='%d', label_type='center', fontsize=12, fontweight=\"black\")\n",
    "# Setting plot titles and labels\n",
    "plt.title(\"Distribution of Match Results\")\n",
    "plt.xlabel('Match Result')\n",
    "plt.ylabel('Count')\n",
    "plt.show()"
   ]
  },
  {
   "cell_type": "markdown",
   "id": "bde3834e",
   "metadata": {},
   "source": [
    "### **ML MODEL**"
   ]
  },
  {
   "cell_type": "code",
   "execution_count": 8,
   "id": "fdf1fbff",
   "metadata": {},
   "outputs": [],
   "source": [
    "# Dropping unnecessary columns from the dataset\n",
    "df = df.drop(columns=[\"Student_ID\", \"University_Name\", \"University_Location\", \"Major_Name\"])"
   ]
  },
  {
   "cell_type": "code",
   "execution_count": 9,
   "id": "fd5f5f47",
   "metadata": {},
   "outputs": [],
   "source": [
    "# Encoding categorical variables into dummy/indicator variables\n",
    "df_encoded = pd.get_dummies(df, columns=[\"Track\", \"Preferred_Location\", \"Preferred_Type\"], drop_first=True)\n",
    "\n",
    "# Splitting the dataset into features (X) and target variable (y)\n",
    "X = df_encoded.drop(\"Match\", axis=1)\n",
    "y = df_encoded[\"Match\"]"
   ]
  },
  {
   "cell_type": "code",
   "execution_count": 10,
   "id": "2d08af88",
   "metadata": {},
   "outputs": [
    {
     "data": {
      "text/html": [
       "<div>\n",
       "<style scoped>\n",
       "    .dataframe tbody tr th:only-of-type {\n",
       "        vertical-align: middle;\n",
       "    }\n",
       "\n",
       "    .dataframe tbody tr th {\n",
       "        vertical-align: top;\n",
       "    }\n",
       "\n",
       "    .dataframe thead th {\n",
       "        text-align: right;\n",
       "    }\n",
       "</style>\n",
       "<table border=\"1\" class=\"dataframe\">\n",
       "  <thead>\n",
       "    <tr style=\"text-align: right;\">\n",
       "      <th></th>\n",
       "      <th>Tuition_Budget</th>\n",
       "      <th>Student_Grade</th>\n",
       "      <th>Tuition_Fees</th>\n",
       "      <th>Acceptance_Grade</th>\n",
       "      <th>Grade_Gap</th>\n",
       "      <th>Is_Budget_Sufficient</th>\n",
       "      <th>Is_Location_Match</th>\n",
       "      <th>Match</th>\n",
       "      <th>Track_Math</th>\n",
       "      <th>Track_Science</th>\n",
       "      <th>...</th>\n",
       "      <th>Preferred_Location_Sadat City</th>\n",
       "      <th>Preferred_Location_Sharm El Sheikh</th>\n",
       "      <th>Preferred_Location_Sheikh Zayed</th>\n",
       "      <th>Preferred_Location_Shibin El Kom</th>\n",
       "      <th>Preferred_Location_Sohag</th>\n",
       "      <th>Preferred_Location_Suez</th>\n",
       "      <th>Preferred_Location_Tanta</th>\n",
       "      <th>Preferred_Location_Zagazig</th>\n",
       "      <th>Preferred_Type_Private</th>\n",
       "      <th>Preferred_Type_Public</th>\n",
       "    </tr>\n",
       "  </thead>\n",
       "  <tbody>\n",
       "    <tr>\n",
       "      <th>0</th>\n",
       "      <td>83712</td>\n",
       "      <td>354.58</td>\n",
       "      <td>36000.0</td>\n",
       "      <td>371.31</td>\n",
       "      <td>-16.73</td>\n",
       "      <td>1</td>\n",
       "      <td>1</td>\n",
       "      <td>0</td>\n",
       "      <td>False</td>\n",
       "      <td>True</td>\n",
       "      <td>...</td>\n",
       "      <td>False</td>\n",
       "      <td>False</td>\n",
       "      <td>False</td>\n",
       "      <td>False</td>\n",
       "      <td>False</td>\n",
       "      <td>False</td>\n",
       "      <td>False</td>\n",
       "      <td>False</td>\n",
       "      <td>True</td>\n",
       "      <td>False</td>\n",
       "    </tr>\n",
       "    <tr>\n",
       "      <th>1</th>\n",
       "      <td>270013</td>\n",
       "      <td>371.13</td>\n",
       "      <td>700000.0</td>\n",
       "      <td>324.73</td>\n",
       "      <td>46.40</td>\n",
       "      <td>0</td>\n",
       "      <td>1</td>\n",
       "      <td>0</td>\n",
       "      <td>False</td>\n",
       "      <td>True</td>\n",
       "      <td>...</td>\n",
       "      <td>False</td>\n",
       "      <td>False</td>\n",
       "      <td>False</td>\n",
       "      <td>False</td>\n",
       "      <td>False</td>\n",
       "      <td>False</td>\n",
       "      <td>False</td>\n",
       "      <td>False</td>\n",
       "      <td>True</td>\n",
       "      <td>False</td>\n",
       "    </tr>\n",
       "    <tr>\n",
       "      <th>2</th>\n",
       "      <td>35472</td>\n",
       "      <td>384.59</td>\n",
       "      <td>1450.0</td>\n",
       "      <td>316.36</td>\n",
       "      <td>68.23</td>\n",
       "      <td>1</td>\n",
       "      <td>1</td>\n",
       "      <td>1</td>\n",
       "      <td>True</td>\n",
       "      <td>False</td>\n",
       "      <td>...</td>\n",
       "      <td>False</td>\n",
       "      <td>False</td>\n",
       "      <td>False</td>\n",
       "      <td>False</td>\n",
       "      <td>False</td>\n",
       "      <td>False</td>\n",
       "      <td>False</td>\n",
       "      <td>False</td>\n",
       "      <td>False</td>\n",
       "      <td>True</td>\n",
       "    </tr>\n",
       "    <tr>\n",
       "      <th>3</th>\n",
       "      <td>108487</td>\n",
       "      <td>368.53</td>\n",
       "      <td>89000.0</td>\n",
       "      <td>288.55</td>\n",
       "      <td>79.98</td>\n",
       "      <td>1</td>\n",
       "      <td>1</td>\n",
       "      <td>1</td>\n",
       "      <td>True</td>\n",
       "      <td>False</td>\n",
       "      <td>...</td>\n",
       "      <td>False</td>\n",
       "      <td>False</td>\n",
       "      <td>False</td>\n",
       "      <td>False</td>\n",
       "      <td>False</td>\n",
       "      <td>False</td>\n",
       "      <td>False</td>\n",
       "      <td>False</td>\n",
       "      <td>False</td>\n",
       "      <td>False</td>\n",
       "    </tr>\n",
       "    <tr>\n",
       "      <th>4</th>\n",
       "      <td>38001</td>\n",
       "      <td>394.10</td>\n",
       "      <td>1350.0</td>\n",
       "      <td>303.98</td>\n",
       "      <td>90.12</td>\n",
       "      <td>1</td>\n",
       "      <td>1</td>\n",
       "      <td>1</td>\n",
       "      <td>True</td>\n",
       "      <td>False</td>\n",
       "      <td>...</td>\n",
       "      <td>False</td>\n",
       "      <td>False</td>\n",
       "      <td>False</td>\n",
       "      <td>False</td>\n",
       "      <td>False</td>\n",
       "      <td>False</td>\n",
       "      <td>False</td>\n",
       "      <td>False</td>\n",
       "      <td>False</td>\n",
       "      <td>True</td>\n",
       "    </tr>\n",
       "  </tbody>\n",
       "</table>\n",
       "<p>5 rows × 46 columns</p>\n",
       "</div>"
      ],
      "text/plain": [
       "   Tuition_Budget  Student_Grade  Tuition_Fees  Acceptance_Grade  Grade_Gap  \\\n",
       "0           83712         354.58       36000.0            371.31     -16.73   \n",
       "1          270013         371.13      700000.0            324.73      46.40   \n",
       "2           35472         384.59        1450.0            316.36      68.23   \n",
       "3          108487         368.53       89000.0            288.55      79.98   \n",
       "4           38001         394.10        1350.0            303.98      90.12   \n",
       "\n",
       "   Is_Budget_Sufficient  Is_Location_Match  Match  Track_Math  Track_Science  \\\n",
       "0                     1                  1      0       False           True   \n",
       "1                     0                  1      0       False           True   \n",
       "2                     1                  1      1        True          False   \n",
       "3                     1                  1      1        True          False   \n",
       "4                     1                  1      1        True          False   \n",
       "\n",
       "   ...  Preferred_Location_Sadat City  Preferred_Location_Sharm El Sheikh  \\\n",
       "0  ...                          False                               False   \n",
       "1  ...                          False                               False   \n",
       "2  ...                          False                               False   \n",
       "3  ...                          False                               False   \n",
       "4  ...                          False                               False   \n",
       "\n",
       "   Preferred_Location_Sheikh Zayed  Preferred_Location_Shibin El Kom  \\\n",
       "0                            False                             False   \n",
       "1                            False                             False   \n",
       "2                            False                             False   \n",
       "3                            False                             False   \n",
       "4                            False                             False   \n",
       "\n",
       "   Preferred_Location_Sohag  Preferred_Location_Suez  \\\n",
       "0                     False                    False   \n",
       "1                     False                    False   \n",
       "2                     False                    False   \n",
       "3                     False                    False   \n",
       "4                     False                    False   \n",
       "\n",
       "   Preferred_Location_Tanta  Preferred_Location_Zagazig  \\\n",
       "0                     False                       False   \n",
       "1                     False                       False   \n",
       "2                     False                       False   \n",
       "3                     False                       False   \n",
       "4                     False                       False   \n",
       "\n",
       "   Preferred_Type_Private  Preferred_Type_Public  \n",
       "0                    True                  False  \n",
       "1                    True                  False  \n",
       "2                   False                   True  \n",
       "3                   False                  False  \n",
       "4                   False                   True  \n",
       "\n",
       "[5 rows x 46 columns]"
      ]
     },
     "execution_count": 10,
     "metadata": {},
     "output_type": "execute_result"
    }
   ],
   "source": [
    "# Displaying the first few rows of the encoded dataset\n",
    "df_encoded.head()"
   ]
  },
  {
   "cell_type": "code",
   "execution_count": 11,
   "id": "f223cf30",
   "metadata": {},
   "outputs": [
    {
     "data": {
      "text/plain": [
       "Match\n",
       "0    0.5\n",
       "1    0.5\n",
       "Name: proportion, dtype: float64"
      ]
     },
     "execution_count": 11,
     "metadata": {},
     "output_type": "execute_result"
    }
   ],
   "source": [
    "# Checking the distribution of the target variable 'Match' as proportions\n",
    "df.value_counts(\"Match\", normalize=True)"
   ]
  },
  {
   "cell_type": "code",
   "execution_count": 12,
   "id": "a0228428",
   "metadata": {},
   "outputs": [],
   "source": [
    "# Initializing the Gradient Boosting Classifier with specific hyperparameters\n",
    "model = GradientBoostingClassifier(random_state=42, n_estimators=50, learning_rate=0.01, max_depth=3)"
   ]
  },
  {
   "cell_type": "code",
   "execution_count": 13,
   "id": "7af38af3",
   "metadata": {},
   "outputs": [
    {
     "name": "stdout",
     "output_type": "stream",
     "text": [
      "Accuracy: 1.0\n",
      "Classification Report:\n",
      "               precision    recall  f1-score   support\n",
      "\n",
      "           0       1.00      1.00      1.00      1141\n",
      "           1       1.00      1.00      1.00      1126\n",
      "\n",
      "    accuracy                           1.00      2267\n",
      "   macro avg       1.00      1.00      1.00      2267\n",
      "weighted avg       1.00      1.00      1.00      2267\n",
      "\n"
     ]
    }
   ],
   "source": [
    "# Selecting important features for the model\n",
    "important_features = ['Is_Location_Match', 'Is_Budget_Sufficient', 'Grade_Gap']\n",
    "X_important = X[important_features]\n",
    "\n",
    "# Splitting the dataset into training and testing sets\n",
    "X_train_imp, X_test_imp, y_train_imp, y_test_imp = train_test_split(X_important, y, test_size=0.2, random_state=42)\n",
    "\n",
    "# Training the model on the training set\n",
    "model.fit(X_train_imp, y_train_imp)\n",
    "\n",
    "# Making predictions on the test set\n",
    "y_pred_imp = model.predict(X_test_imp)\n",
    "\n",
    "# Evaluating the model's performance using accuracy and classification report\n",
    "print(\"Accuracy:\", accuracy_score(y_test_imp, y_pred_imp))\n",
    "print(\"Classification Report:\\n\", classification_report(y_test_imp, y_pred_imp))"
   ]
  },
  {
   "cell_type": "code",
   "execution_count": 14,
   "id": "f84ae7eb",
   "metadata": {},
   "outputs": [
    {
     "name": "stdout",
     "output_type": "stream",
     "text": [
      "Cross-Validation Accuracy: 1.0\n"
     ]
    }
   ],
   "source": [
    "# Performing cross-validation to evaluate the model's performance\n",
    "\n",
    "important_features = ['Is_Location_Match', 'Is_Budget_Sufficient', 'Grade_Gap']\n",
    "X_important = X[important_features]\n",
    "\n",
    "# Calculating cross-validation scores\n",
    "scores = cross_val_score(model, X_important, y, cv=5, scoring='accuracy')\n",
    "print(\"Cross-Validation Accuracy:\", scores.mean())"
   ]
  },
  {
   "cell_type": "code",
   "execution_count": 15,
   "id": "10e9e489",
   "metadata": {},
   "outputs": [
    {
     "data": {
      "text/plain": [
       "Text(0.5, 1.0, 'Confusion Matrix')"
      ]
     },
     "execution_count": 15,
     "metadata": {},
     "output_type": "execute_result"
    },
    {
     "data": {
      "image/png": "[encoded data removed]",
      "text/plain": [
       "<Figure size 800x600 with 1 Axes>"
      ]
     },
     "metadata": {},
     "output_type": "display_data"
    }
   ],
   "source": [
    "conf_matrix = confusion_matrix(y_test_imp, y_pred_imp)\n",
    "plt.figure(figsize=(8, 6))\n",
    "sns.heatmap(conf_matrix, annot=True, fmt='d', cmap='Blues', cbar=False, xticklabels=['Not Matched', 'Matched'], yticklabels=['Not Matched', 'Matched'])\n",
    "plt.title('Confusion Matrix')"
   ]
  },
  {
   "cell_type": "code",
   "execution_count": 16,
   "id": "f8d53efb",
   "metadata": {},
   "outputs": [
    {
     "name": "stdout",
     "output_type": "stream",
     "text": [
      "Prediction (Match): 1\n"
     ]
    }
   ],
   "source": [
    "new_student = {\n",
    "    \"Is_Location_Match\": 1,  # Example: 1 if location matches\n",
    "    \"Is_Budget_Sufficient\": 1,  # Example: 1 if budget is sufficient\n",
    "    \"Grade_Gap\": 42.0  # Example: Positive grade gap\n",
    "}\n",
    "\n",
    "new_student_df = pd.DataFrame([new_student])\n",
    "prediction = model.predict(new_student_df)\n",
    "print(\"Prediction (Match):\", prediction[0])  # 1 for match, 0 for no match"
   ]
  },
  {
   "cell_type": "code",
   "execution_count": 17,
   "id": "22dff6fa",
   "metadata": {},
   "outputs": [
    {
     "data": {
      "text/plain": [
       "['university_recommendation_model.pkl']"
      ]
     },
     "execution_count": 17,
     "metadata": {},
     "output_type": "execute_result"
    }
   ],
   "source": [
    "# Saving the trained model to a file for future use\n",
    "joblib.dump(model, \"university_recommendation_model.pkl\")"
   ]
  }
 ],
 "metadata": {
  "kernelspec": {
   "display_name": "Python 3",
   "language": "python",
   "name": "python3"
  },
  "language_info": {
   "codemirror_mode": {
    "name": "ipython",
    "version": 3
   },
   "file_extension": ".py",
   "mimetype": "text/x-python",
   "name": "python",
   "nbconvert_exporter": "python",
   "pygments_lexer": "ipython3",
   "version": "3.13.1"
  }
 },
 "nbformat": 4,
 "nbformat_minor": 5
}
